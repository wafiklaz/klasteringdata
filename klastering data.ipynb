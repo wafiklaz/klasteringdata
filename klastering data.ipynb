{
 "cells": [
  {
   "cell_type": "code",
   "execution_count": 10,
   "metadata": {},
   "outputs": [
    {
     "ename": "IndentationError",
     "evalue": "expected an indented block (<ipython-input-10-33d5569ed53f>, line 10)",
     "output_type": "error",
     "traceback": [
      "\u001b[1;36m  File \u001b[1;32m\"<ipython-input-10-33d5569ed53f>\"\u001b[1;36m, line \u001b[1;32m10\u001b[0m\n\u001b[1;33m    source = requests.get(url+str(halaman)).text\u001b[0m\n\u001b[1;37m    ^\u001b[0m\n\u001b[1;31mIndentationError\u001b[0m\u001b[1;31m:\u001b[0m expected an indented block\n"
     ]
    }
   ],
   "source": [
    "from bs4 import BeautifulSoup\n",
    "import requests \n",
    "\n",
    "\n",
    "url = 'https://www.detik.com/search/searchall?query=bisnis&siteid=2'\n",
    "batasAtas = 5\n",
    "\n",
    "for halaman in range(1, batasAtas+1):\n",
    "\n",
    "source = requests.get(url+str(halaman)).text    \n",
    "soup = BeautifulSoup(source, 'lxml')\n",
    "\n",
    "for article in soup.find_all('article'):        \n",
    "    headline = article.find('h2',class_= 'title').text        \n",
    "    print(headline) \n",
    "    \n",
    "    tanggal = article.find('span',class_='date').text         \n",
    "    print(tanggal) \n",
    "    \n",
    "    summary = article.find('p').text        \n",
    "    print(summary)        \n",
    "    print()"
   ]
  },
  {
   "cell_type": "code",
   "execution_count": 11,
   "metadata": {},
   "outputs": [
    {
     "ename": "IndentationError",
     "evalue": "expected an indented block (<ipython-input-11-8f0a39598368>, line 10)",
     "output_type": "error",
     "traceback": [
      "\u001b[1;36m  File \u001b[1;32m\"<ipython-input-11-8f0a39598368>\"\u001b[1;36m, line \u001b[1;32m10\u001b[0m\n\u001b[1;33m    source = requests.get(url+str(halaman)).text\u001b[0m\n\u001b[1;37m    ^\u001b[0m\n\u001b[1;31mIndentationError\u001b[0m\u001b[1;31m:\u001b[0m expected an indented block\n"
     ]
    }
   ],
   "source": [
    "from bs4 import BeautifulSoup\n",
    "import requests \n",
    "\n",
    "\n",
    "url = 'https://www.detik.com/search/searchall?query=bisnis&siteid=2'\n",
    "batasHalaman = 5\n",
    "\n",
    "for halaman in range(1, batasHalaman+1):\n",
    "\n",
    "source = requests.get(url+str(halaman)).text    \n",
    "soup = BeautifulSoup(source, 'lxml')\n",
    "\n",
    "for article in soup.find_all('article'):        \n",
    "    headline = article.find('h2',class_= 'title').text        \n",
    "    print(headline) \n",
    "    \n",
    "    tanggal = article.find('span',class_='date').text         \n",
    "    print(tanggal) \n",
    "    \n",
    "    summary = article.find('p').text        \n",
    "    print(summary)        \n",
    "    print()"
   ]
  },
  {
   "cell_type": "code",
   "execution_count": 14,
   "metadata": {},
   "outputs": [
    {
     "ename": "IndentationError",
     "evalue": "expected an indented block (<ipython-input-14-6dd0804e81e2>, line 10)",
     "output_type": "error",
     "traceback": [
      "\u001b[1;36m  File \u001b[1;32m\"<ipython-input-14-6dd0804e81e2>\"\u001b[1;36m, line \u001b[1;32m10\u001b[0m\n\u001b[1;33m    source = requests.get(url).text\u001b[0m\n\u001b[1;37m    ^\u001b[0m\n\u001b[1;31mIndentationError\u001b[0m\u001b[1;31m:\u001b[0m expected an indented block\n"
     ]
    }
   ],
   "source": [
    "from bs4 import BeautifulSoup\n",
    "import requests \n",
    "\n",
    "\n",
    "url = 'https://www.detik.com/search/searchall?query=bisnis&siteid=2'\n",
    "batasHalaman = 5\n",
    "\n",
    "for halaman in range(1, batasHalaman+1):\n",
    "\n",
    "source = requests.get(url).text    \n",
    "soup = BeautifulSoup(source, 'lxml')\n",
    "\n",
    "for article in soup.find_all('article'):        \n",
    "    headline = article.find('h2',class_= 'title').text        \n",
    "    print(headline) \n",
    "    \n",
    "    print()"
   ]
  },
  {
   "cell_type": "code",
   "execution_count": 15,
   "metadata": {},
   "outputs": [
    {
     "ename": "IndentationError",
     "evalue": "expected an indented block (<ipython-input-15-6dd0804e81e2>, line 10)",
     "output_type": "error",
     "traceback": [
      "\u001b[1;36m  File \u001b[1;32m\"<ipython-input-15-6dd0804e81e2>\"\u001b[1;36m, line \u001b[1;32m10\u001b[0m\n\u001b[1;33m    source = requests.get(url).text\u001b[0m\n\u001b[1;37m    ^\u001b[0m\n\u001b[1;31mIndentationError\u001b[0m\u001b[1;31m:\u001b[0m expected an indented block\n"
     ]
    }
   ],
   "source": [
    "from bs4 import BeautifulSoup\n",
    "import requests \n",
    "\n",
    "\n",
    "url = 'https://www.detik.com/search/searchall?query=bisnis&siteid=2'\n",
    "batasHalaman = 5\n",
    "\n",
    "for halaman in range(1, batasHalaman+1):\n",
    "\n",
    "source = requests.get(url).text    \n",
    "soup = BeautifulSoup(source, 'lxml')\n",
    "\n",
    "for article in soup.find_all('article'):        \n",
    "    headline = article.find('h2',class_= 'title').text        \n",
    "    print(headline) \n",
    "    \n",
    "    print()"
   ]
  },
  {
   "cell_type": "code",
   "execution_count": 16,
   "metadata": {},
   "outputs": [
    {
     "ename": "IndentationError",
     "evalue": "expected an indented block (<ipython-input-16-d07502d1959b>, line 10)",
     "output_type": "error",
     "traceback": [
      "\u001b[1;36m  File \u001b[1;32m\"<ipython-input-16-d07502d1959b>\"\u001b[1;36m, line \u001b[1;32m10\u001b[0m\n\u001b[1;33m    source = requests.get(url+str(halaman)).text\u001b[0m\n\u001b[1;37m    ^\u001b[0m\n\u001b[1;31mIndentationError\u001b[0m\u001b[1;31m:\u001b[0m expected an indented block\n"
     ]
    }
   ],
   "source": [
    "from bs4 import BeautifulSoup\n",
    "import requests \n",
    "\n",
    "\n",
    "url = 'https://www.detik.com/search/searchall?query=bisnis&siteid=2'\n",
    "batasHalaman = 5\n",
    "\n",
    "for halaman in range(1, batasHalaman+1):\n",
    "\n",
    "source = requests.get(url+str(halaman)).text    \n",
    "soup = BeautifulSoup(source, 'lxml')\n",
    "\n",
    "for article in soup.find_all('article'):        \n",
    "    headline = article.find('h2',class_= 'title').text        \n",
    "    print(headline) \n",
    "    \n",
    "    print()"
   ]
  },
  {
   "cell_type": "code",
   "execution_count": 17,
   "metadata": {},
   "outputs": [
    {
     "ename": "IndentationError",
     "evalue": "expected an indented block (<ipython-input-17-c948591acdbc>, line 10)",
     "output_type": "error",
     "traceback": [
      "\u001b[1;36m  File \u001b[1;32m\"<ipython-input-17-c948591acdbc>\"\u001b[1;36m, line \u001b[1;32m10\u001b[0m\n\u001b[1;33m    source = requests.get(url+str(halaman)).text\u001b[0m\n\u001b[1;37m    ^\u001b[0m\n\u001b[1;31mIndentationError\u001b[0m\u001b[1;31m:\u001b[0m expected an indented block\n"
     ]
    }
   ],
   "source": [
    "from bs4 import BeautifulSoup\n",
    "import requests \n",
    "\n",
    "\n",
    "url = 'https://www.detik.com/search/searchall?query=bisnis&siteid='\n",
    "batasHalaman = 5\n",
    "\n",
    "for halaman in range(1, batasHalaman+1):\n",
    "\n",
    "source = requests.get(url+str(halaman)).text    \n",
    "soup = BeautifulSoup(source, 'lxml')\n",
    "\n",
    "for article in soup.find_all('article'):        \n",
    "    headline = article.find('h2',class_= 'title').text        \n",
    "    print(headline) \n",
    "    \n",
    "    print()"
   ]
  },
  {
   "cell_type": "code",
   "execution_count": 22,
   "metadata": {},
   "outputs": [
    {
     "name": "stdout",
     "output_type": "stream",
     "text": [
      "Percepatan Digital Smart Office, Huawei Luncurkan HUAWEI IdeaHub\n",
      "detikNewsSenin, 14 Des 2020 00:00 WIB\n",
      "Huawei Indonesia meluncurkan HUAWEI IdeaHub, inovasi smart office yang menggabungkan HUAWEI Cloud Meeting dengan kualitas high definition (HD)\n",
      "\n",
      "Perusahaan Asal Kanada Mau Buat Teknologi Daur Ulang Baterai Lithium\n",
      "detikFinanceMinggu, 13 Des 2020 22:31 WIB\n",
      "Li-Cycle berupaya mengembangkan teknologi peremajaan baterai lithium tanpa merusak sepenuhnya.\n",
      "\n",
      "Ketika Kucing Punya Koleksi Baju yang Tak Kalah Banyak dari Tuannya\n",
      "WolipopMinggu, 13 Des 2020 18:30 WIB\n",
      "Agar kucingnya terlihat semakin gemas, Lenny tak tanggung-tanggung dalam membeli aksesori untuk kucingnya. Ia mengoleksi 50 baju untuk kucingnya\n",
      "\n",
      "Kisah Bos Alfamart, 'Tak Pernah Cabut' dari Daftar 50 Orang Kaya RI\n",
      "detikFinanceMinggu, 13 Des 2020 17:25 WIB\n",
      "Pendiri Alfamart, Djoko Susanto masih terus bertahan di daftar 50 orang terkaya Indonesia versi majalah Forbes tahun 2020.\n",
      "\n",
      "Drama Jual Baju Kucing, Ditantang Bikin Bentuk Pocong Hingga Dikecam Aktivis\n",
      "WolipopMinggu, 13 Des 2020 16:30 WIB\n",
      "Pria ini viral hingga ke mancanegara karena baju kucing buatannya. Dia pernah ditantang membuat baju kucing bentuk pocong hingga mendapat kecaman aktivis.\n",
      "\n",
      "Wah, Ada Tempat Hangout Baru di Jakarta yang Sajikan Aneka Taco\n",
      "WolipopMinggu, 13 Des 2020 16:14 WIB\n",
      "Taco Bell bersama PT Fast Food Indonesia akan menyajikan berbagai menu makanan yang terinspirasi dari cita rasa makanan Meksiko.\n",
      "\n",
      "Tak Ada Kompetisi, Akademi PSS Sleman Tetap Genjot Latihan\n",
      "SepakbolaMinggu, 13 Des 2020 15:05 WIB\n",
      "Akademi PSS Sleman tetap menggelar latihan meski tak ada kompetisi. Pembinaan pemain muda harus tetap berjalan.\n",
      "\n",
      "Bos TikTok Khawatir Pegawainya Ketagihan Main Genshin Impact\n",
      "detikInetMinggu, 13 Des 2020 14:19 WIB\n",
      "Bos TikTok Zhang Yiming khawatir produktivitas pegawainya turun karena keseringan main game Genshin Impact. Seperti apa ceritanya?\n",
      "\n",
      "Digelar Virtual, Pameran Dagang Terbesar Ke-35 RI Catat Transaksi US$ 1,2 M\n",
      "detikFinanceMinggu, 13 Des 2020 13:50 WIB\n",
      "Menteri Perdagangan Agus Suparmanto mengungkapkan Trade Expo Indonesia ke-35 Virtual Exhibition (TEI-VE) 2020 membukukan transaksi sebesar US$ 1,2 miliar.\n",
      "\n",
      "Percepatan Digital Smart Office, Huawei Luncurkan HUAWEI IdeaHub\n",
      "detikNewsSenin, 14 Des 2020 00:00 WIB\n",
      "Huawei Indonesia meluncurkan HUAWEI IdeaHub, inovasi smart office yang menggabungkan HUAWEI Cloud Meeting dengan kualitas high definition (HD)\n",
      "\n",
      "Mantan Rektor Unpad Yuyun Wirasasmita Tutup Usia\n",
      "detikNewsMinggu, 13 Des 2020 11:30 WIB\n",
      "Mantan rektor Universitas Padjadjaran Prof Yuyun Wirasasmita tutup usia. Rektor Unpad ke-7 ini wafat pada usia 89 tahun.\n",
      "\n",
      "Pajak Bahan Bakar Kendaraan Bermotor Sumbar Capai Rp 341,9 M\n",
      "detikNewsSabtu, 12 Des 2020 20:34 WIB\n",
      "Total pembayaran PBBKB Sumbar 2018 sampai Oktober 2020 sebesar Rp 1,17 triliun. Rata-rata pembayaran PBBKB Sumbar tahun 2020 per bulan adalah Rp 34 miliar.\n",
      "\n",
      "Pakai Sistem MLM, Perusahaan Catat Penjualan Rp 14,7 T di 2019\n",
      "detikNewsSabtu, 12 Des 2020 19:56 WIB\n",
      "Perusahaan yang menjalankan penjualan dengan sistem berjenjang (multi level marketing atau MLM), mencatatkan transaksi penjualan sebesar Rp 14,7 triliun.\n",
      "\n",
      "Ketua MPR Harapkan Kesepakatan Negara Se-ASEAN Dongkrak Ekonomi RI\n",
      "detikNewsSabtu, 12 Des 2020 16:30 WIB\n",
      "Ini mengingat Regional Comprehensive Economic Partnership (RCEP) diinisiasi oleh Indonesia, dipimpin oleh Indonesia, dan ditandatangani atas 'restu' Indonesia.\n",
      "\n",
      "Nenek Simis di Pacitan Jual Jajanan Legendaris Hari Pahing dan Kliwon\n",
      "detikNewsSabtu, 12 Des 2020 13:59 WIB\n",
      "Nenek Simis (80) dikenal luas sebagai penjual jajanan tradisional di Pacitan. Selama 25 tahun dia menjadikan poskamling sebagai lapak jualan.\n",
      "\n",
      "Sepeda Listrik Buatan Mahasiswa Unpad Ditargetkan Bisa Diproduksi Massal\n",
      "detikNewsSabtu, 12 Des 2020 12:05 WIB\n",
      "Mahasiswa Universitas Padjajaran membuat sepeda listrik dengan jarak tempuh 30 km. Pembuatnya berharap sepeda ini bisa diproduksi massal pada 2021.\n",
      "\n",
      "Seabad Haribo, Permen Kunyah Legendaris Asal Jerman\n",
      "detikNewsSabtu, 12 Des 2020 12:03 WIB\n",
      "Dari anak-anak, pengarang kenamaan Erich Kstner, bahkan konon Albert Einstein, semua suka Haribo. Permen ikonik asal Jerman ini genap berusia 100 tahun.\n",
      "\n",
      "Kala Sepakbola Suarakan Ketidakadilan\n",
      "detikNewsSabtu, 12 Des 2020 12:01 WIB\n",
      "Bukan kali pertama pesepakbola utarakan pandangannya atas ketidakadilan. Teranyar adalah Antoine Griezmann yang memutuskan kontrak komersial dengan Huawei.\n",
      "\n",
      "Ivan 'Boomerang' Lelang Gitar untuk Aceh \n",
      "Kamis, 06 Jan 2005 14:11 WIB\n",
      "Hari ulang tahun layaknya memang dirayakan dengan pesta. Namun karena prihatin dengan bencana tsunami yang terjadi di Aceh dan Sumatera Utara, party pun berubah menjadi charity.\n",
      "\n",
      "Sean Penn Jadi Teroris di Film 'Nixon'\n",
      "Rabu, 29 Des 2004 09:54 WIB\n",
      "Aktor peraih Oscar Sean Penn beralih profesi menjadi teroris. Padahal semua negara di dunia bertekad memberantas teroris dari muka bumi. Lantas bagaimana nasib Penn?\n",
      "\n",
      "Solider Gempa, Acara Tahun Baru Perlu Diformat \n",
      "Selasa, 28 Des 2004 17:56 WIB\n",
      "Sebagai bentuk solidaritas terhadap bencana gempa bumi dan tsunami yang melanda Aceh dan Sumatra Utara, acara tahun baru di televisi sebaiknya ditata ulang. \n",
      "\n",
      "Oceans Twelve, Bukan Cuma Pencurian\n",
      "Kamis, 23 Des 2004 14:42 WIB\n",
      "Sang pencuri yang dikomandani Danny Ocean kini kembali beraksi. Namun aksinya ini tidak semata mengeruk keuntungan, tapi karena sebab lain yang lebih penting.\n",
      "\n",
      "Spekulasi Wall Street, Pixar-Disney Undur Rilis 'Cars'\n",
      "Kamis, 09 Des 2004 16:01 WIB\n",
      "Gara-gara spekulasi bisnis Wall Street, raja pembuat film animasi, Pixar dan Disney mengundur rilis fim animasi terbaru mereka, \"cars\".\n",
      "\n",
      "Produser Lama Joy Merasa Dijegal BMG\n",
      "Jumat, 29 Okt 2004 22:28 WIB\n",
      "Yockie M Hutagalung, produser lama Joy di Octopus record merasa dicurangi BMG. Perusahan rekaman yang menggarap kontestan Indonesian Idol itu dianggap mengahalang-halangi beredarnya album lama Joy, \"The Song of Joy\" di pasaran. \n",
      "\n",
      "\n",
      "Rod Stewart Minta Promotor Bayar Lunas\n",
      "Jumat, 29 Okt 2004 12:26 WIB\n",
      "Rod Steward tampil meyakinkan dalam persidangan yang menuntut dirinya membayar US $2 juta kepada 3 promotor. Kepada hakim, penyanyi rock Inggris itu meminta penuntutnya membayar sisa pembayaran 9 konser yang belum dibayar ketiga promotor.\n",
      "\n",
      "Presiden Bush, Tokoh Film Paling Jahat 2004\n",
      "Kamis, 28 Okt 2004 10:01 WIB\n",
      "Sebuah polling digelar untuk memilih siapakah penjahat dalam film yang paling top. Mengalahkan Dr Ock musuh Spiderman, Presiden Bush duduk di nomor satu.\n",
      "\n",
      "Mickey Mouse, Tokoh Kartun Terkaya \n",
      "Minggu, 24 Okt 2004 16:50 WIB\n",
      "Majalah Forbes tak hanya mengurutkan daftar orang-orang terkaya, majalah bisnis bergengsi ini juga mendaftar siapakah tokoh kartun yang termakmur. Pemenangnya adalah si Miki Tikus.\n",
      "\n",
      "Bos TikTok Khawatir Pegawainya Ketagihan Main Genshin Impact\n",
      "detikInetMinggu, 13 Des 2020 14:19 WIB\n",
      "Bos TikTok Zhang Yiming khawatir produktivitas pegawainya turun karena keseringan main game Genshin Impact. Seperti apa ceritanya?\n",
      "\n",
      "Elon Musk Kritik Terlalu Banyak Lulusan MBA di Perusahaan\n",
      "detikInetMinggu, 13 Des 2020 13:17 WIB\n",
      "Elon Musk mengkritik terlalu banyak lulusan MBA yang menjalankan perusahaan di Amerika Serikat.\n",
      "\n",
      "Dual Headquarter dan Komitmen Jangka Panjang Grab di Indonesia\n",
      "detikInetJumat, 11 Des 2020 21:10 WIB\n",
      "Langkah Grab meresmikan markas keduanya di Jakarta dinilai tak konvensional. Namun hal ini malah menunjukkan komitmen mereka di Indonesia.\n",
      "\n",
      "Cara Bikin Konten Menarik dari Barang-barang di Rumah\n",
      "detikInetJumat, 11 Des 2020 14:46 WIB\n",
      "Membuat konten menarik bisa bantu dongkrak penjualan online sebuah produk. Untuk buat konten yang menarik dapat memanfaatkan barang-barang yang ada di rumah loh\n",
      "\n",
      "Belanja Produk Hypermart Kini Bisa Lewat Tokopedia, Ada Diskon Lho\n",
      "detikInetJumat, 11 Des 2020 09:55 WIB\n",
      "Kini produk-produk dari pemilik Hypermart tersebut bisa dibeli dengan mudah lewat Tokopedia.\n",
      "\n",
      "Pencipta Robot Anjing Dicaplok Hyundai Senilai Rp 12 Triliun\n",
      "detikInetJumat, 11 Des 2020 09:21 WIB\n",
      "Rumor bahwa Hyundai sedang melirik Boston Dynamics kini terkonfirmasi. Produsen mobil asal Korea Selatan tersebut mencaplok si pencipta robot anjing.\n",
      "\n",
      "Jegal Jack Ma, China Tak Ingin Terjebak Seperti Amerika\n",
      "detikInetJumat, 11 Des 2020 06:42 WIB\n",
      "Pemerintah China dinilai tidak ingin perusahaan teknologi di negaranya menjadi sangat meraksasa seperti di Amerika Serikat\n",
      "\n",
      "Jika WhatsApp Lepas dari Facebook Ini Dampak Buruknya\n",
      "detikInetJumat, 11 Des 2020 05:41 WIB\n",
      "Facebook, bersama Instagram dan WhatsApp, adalah kekuatan besar dan dominan dalam aktivitas warga dunia di internet.\n",
      "\n",
      "Apple Bakal Blokir Aplikasi yang Tak Patuh Fitur Privasi\n",
      "detikInetKamis, 10 Des 2020 22:37 WIB\n",
      "Apple akan mengambil tindakan tegas dengan menghapus aplikasi dari App Sotre jika tidak mematuhi fitur privasi baru.\n",
      "\n"
     ]
    }
   ],
   "source": [
    "from bs4 import BeautifulSoup\n",
    "import requests \n",
    "\n",
    "\n",
    "url = 'https://www.detik.com/search/searchall?query=bisnis&siteid='\n",
    "batasHalaman = 5 \n",
    "\n",
    "for halaman in range(1, batasHalaman+1):\n",
    "    \n",
    "    source = requests.get(url+str(halaman)).text    \n",
    "    soup = BeautifulSoup(source, 'lxml')\n",
    "\n",
    "    for article in soup.find_all('article'):        \n",
    "\n",
    "        headline = article.find('h2',class_= 'title').text        \n",
    "        print(headline) \n",
    "\n",
    "        tanggal = article.find('span',class_= 'date').text        \n",
    "        print(tanggal)\n",
    "        \n",
    "        rangkuman = article.find('p').text        \n",
    "        print(rangkuman)\n",
    "        \n",
    "        print()"
   ]
  },
  {
   "cell_type": "code",
   "execution_count": null,
   "metadata": {},
   "outputs": [],
   "source": [
    " "
   ]
  }
 ],
 "metadata": {
  "kernelspec": {
   "display_name": "Python 3",
   "language": "python",
   "name": "python3"
  },
  "language_info": {
   "codemirror_mode": {
    "name": "ipython",
    "version": 3
   },
   "file_extension": ".py",
   "mimetype": "text/x-python",
   "name": "python",
   "nbconvert_exporter": "python",
   "pygments_lexer": "ipython3",
   "version": "3.8.5"
  }
 },
 "nbformat": 4,
 "nbformat_minor": 4
}
